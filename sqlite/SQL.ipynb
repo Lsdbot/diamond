{
 "cells": [
  {
   "cell_type": "code",
   "execution_count": 7,
   "id": "b005bff1",
   "metadata": {},
   "outputs": [],
   "source": [
    "import pandas as pd\n",
    "from sqlalchemy import create_engine"
   ]
  },
  {
   "cell_type": "code",
   "execution_count": 8,
   "id": "ed44026e",
   "metadata": {},
   "outputs": [],
   "source": [
    "def csv_sql(filepath, name_table):\n",
    "    db = pd.read_csv(filepath)\n",
    "    db = db.set_index(\"id\")\n",
    "    conn = create_engine(\"sqlite:///Diamonds\")\n",
    "    db.to_sql(name = name_table, con = conn, if_exists = \"replace\")"
   ]
  },
  {
   "cell_type": "code",
   "execution_count": 9,
   "id": "18f3badd",
   "metadata": {},
   "outputs": [],
   "source": [
    "csv_sql(\"/home/sergey/projects/Diamond/data_csv/train.csv\", \"Diamond_train\")"
   ]
  },
  {
   "cell_type": "code",
   "execution_count": 10,
   "id": "6dbcefca",
   "metadata": {},
   "outputs": [],
   "source": [
    "csv_sql(\"/home/sergey/projects/Diamond/data_csv/test.csv\", \"Diamond_test_x\")"
   ]
  },
  {
   "cell_type": "code",
   "execution_count": 11,
   "id": "eb51f372",
   "metadata": {},
   "outputs": [],
   "source": [
    "csv_sql(\"/home/sergey/projects/Diamond/data_csv/sample_submission.csv\", \"Diamond_test_y\")"
   ]
  }
 ],
 "metadata": {
  "kernelspec": {
   "display_name": "Python 3 (ipykernel)",
   "language": "python",
   "name": "python3"
  },
  "language_info": {
   "codemirror_mode": {
    "name": "ipython",
    "version": 3
   },
   "file_extension": ".py",
   "mimetype": "text/x-python",
   "name": "python",
   "nbconvert_exporter": "python",
   "pygments_lexer": "ipython3",
   "version": "3.10.7"
  }
 },
 "nbformat": 4,
 "nbformat_minor": 5
}
